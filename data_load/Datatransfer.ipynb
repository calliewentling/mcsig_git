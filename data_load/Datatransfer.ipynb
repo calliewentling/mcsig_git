{
 "cells": [
  {
   "cell_type": "markdown",
   "id": "5ccd6d2b",
   "metadata": {},
   "source": [
    "# POSTGRES VIA Python"
   ]
  },
  {
   "cell_type": "markdown",
   "id": "9904e6c8",
   "metadata": {},
   "source": [
    "https://www.dataquest.io/blog/loading-data-into-postgres/"
   ]
  },
  {
   "cell_type": "markdown",
   "id": "b5a43e83",
   "metadata": {},
   "source": [
    "### Initialize environment"
   ]
  },
  {
   "cell_type": "code",
   "execution_count": 1,
   "id": "7fb7bdb1",
   "metadata": {},
   "outputs": [
    {
     "name": "stdout",
     "output_type": "stream",
     "text": [
      "Requirement already satisfied: psycopg2 in c:\\mcsig_thesis\\datatransfer\\lib\\site-packages (2.8.6)\n",
      "Note: you may need to restart the kernel to use updated packages.\n"
     ]
    },
    {
     "name": "stderr",
     "output_type": "stream",
     "text": [
      "WARNING: You are using pip version 21.1.1; however, version 21.1.2 is available.\n",
      "You should consider upgrading via the 'c:\\mcsig_thesis\\datatransfer\\scripts\\python.exe -m pip install --upgrade pip' command.\n"
     ]
    }
   ],
   "source": [
    "pip install psycopg2"
   ]
  },
  {
   "cell_type": "markdown",
   "id": "80f7a315",
   "metadata": {},
   "source": [
    "### Connect to postgres"
   ]
  },
  {
   "cell_type": "code",
   "execution_count": 1,
   "id": "2f750337",
   "metadata": {},
   "outputs": [
    {
     "name": "stdout",
     "output_type": "stream",
     "text": [
      "Connection open\n",
      "Connection closed\n"
     ]
    }
   ],
   "source": [
    "#Connect to postgres\n",
    "import psycopg2\n",
    "conn = psycopg2.connect(\"host=localhost dbname=postgres user=postgres password=thesis2021\")\n",
    "cur = conn.cursor()\n",
    "print(\"Connection open\")\n",
    "\n",
    "#close the connection\n",
    "conn.close()\n",
    "print(\"Connection closed\")"
   ]
  },
  {
   "cell_type": "markdown",
   "id": "e25680fa",
   "metadata": {},
   "source": [
    "### Create table"
   ]
  },
  {
   "cell_type": "code",
   "execution_count": 36,
   "id": "0250da47",
   "metadata": {
    "scrolled": true
   },
   "outputs": [
    {
     "name": "stdout",
     "output_type": "stream",
     "text": [
      "mensagem_stories dropped\n",
      "mensagem_stories committed\n",
      "connection closed\n"
     ]
    }
   ],
   "source": [
    "#Connect to postgres\n",
    "import psycopg2\n",
    "conn = psycopg2.connect(\"host=localhost dbname=postgres user=postgres password=thesis2021\")\n",
    "cur = conn.cursor()\n",
    "\n",
    "#Drop table if already exists\n",
    "cur.execute(\"DROP TABLE mensagem_stories\")\n",
    "print (\"mensagem_stories dropped\")\n",
    "\n",
    "#Create table mensagem_stories\n",
    "cur.execute(\"\"\"\n",
    "    CREATE TABLE mensagem_stories(\n",
    "    title text,\n",
    "    summary text,\n",
    "    contents text,\n",
    "    pub_date date,\n",
    "    spatial text,\n",
    "    t_begin date,\n",
    "    t_end date,\n",
    "    t_type text,\n",
    "    temporal text,\n",
    "    link text,\n",
    "    section text,\n",
    "    tags text,\n",
    "    author text,\n",
    "    publication text\n",
    ")\n",
    "\"\"\")\n",
    "conn.commit()\n",
    "print(\"mensagem_stories committed\")\n",
    "\n",
    "#close the connection\n",
    "conn.close()\n",
    "print(\"connection closed\")"
   ]
  },
  {
   "cell_type": "markdown",
   "id": "f923212a",
   "metadata": {},
   "source": [
    "## Load data from CSV\n",
    "Currently setting null date values to 01/01/1900"
   ]
  },
  {
   "cell_type": "code",
   "execution_count": 49,
   "id": "c36e8776",
   "metadata": {
    "scrolled": true
   },
   "outputs": [
    {
     "name": "stdout",
     "output_type": "stream",
     "text": [
      "Connection open\n",
      "current working directory is  C:\\\n",
      "current working directory is  C:\\\n",
      "Path changed\n",
      "data loaded\n",
      "load id assigned\n",
      "[('Esta cidade ja é para animais vadios: gatos de rua têm abrigos para dormir', 'Maria João Martins', 'A1', 1), ('A avó da Uber Eats em Alfama é a salvaçao dos mais velhos', 'Álvaro Filho', 'A2', 2), ('Alvalade: o bairro que não é para turistas tem resistido melhor à crise da pendemia', 'Frederico Raposo ', 'A3', 3), ('\"As \"\"Gaulesas\"\" que defendem a Mouraria da especulação imobiliária\"', 'Catarina Reis', 'A4', 4), ('Mais floreiras e menos carros. Estes lisboetas mudaram uma rua com um canteiro.', 'Frederico Raposo ', 'A5', 5), ('Nos Anjos, o ativismo passou a fazer-se ao microfone da rádio Gabriela', 'Álvaro Filho', 'A6', 6), ('Quem é Alexis Lapas, o peixeiro de Benfica que dá polémica no Twitter', 'Álvaro Filho', 'A7', 7), ('A guerra das bicicletas passou para a Avenida de Berna e está a politizar-se', 'Frederico Raposo ', 'A8', 8)]\n",
      "connection closed\n"
     ]
    }
   ],
   "source": [
    "import psycopg2\n",
    "import os\n",
    "conn = psycopg2.connect(\"host=localhost dbname=postgres user=postgres password=thesis2021\")\n",
    "cur = conn.cursor()\n",
    "print(\"Connection open\")\n",
    "\n",
    "cwd = os.getcwd()\n",
    "print(\"current working directory is \", cwd)\n",
    "\n",
    "os.chdir(\"C:\\\\\")\n",
    "cwd = os.getcwd()\n",
    "print(\"current working directory is \", cwd)\n",
    "\n",
    "path = os.path.join('mcsig_git', 'data_load')\n",
    "os.chdir(path)\n",
    "print(\"Path changed\")\n",
    "\n",
    "\n",
    "#Load table\n",
    "with open('story2.csv', 'r', encoding='utf-8') as f:\n",
    "    next(f) #skip header row\n",
    "    cur.copy_from(f, 'mensagem_stories', sep='|')\n",
    "conn.commit()\n",
    "print(\"data loaded\")\n",
    "\n",
    "cur.execute(\"\"\"\n",
    "    ALTER TABLE mensagem_stories ADD id serial PRIMARY KEY, ADD load_id text DEFAULT 'A'\n",
    "\"\"\")\n",
    "\n",
    "cur.execute(\"\"\"\n",
    "    UPDATE mensagem_stories\n",
    "    set load_id = CONCAT('A',id)\n",
    "\"\"\")\n",
    "conn.commit()\n",
    "print(\"load id assigned\")\n",
    "\n",
    "cur.execute('SELECT title,author,load_id,id FROM mensagem_stories')\n",
    "all = cur.fetchall()\n",
    "print(all)\n",
    "\n",
    "conn.close()\n",
    "print(\"connection closed\")"
   ]
  },
  {
   "cell_type": "markdown",
   "id": "aa63d6a0",
   "metadata": {},
   "source": [
    "## Create Relational Database model"
   ]
  },
  {
   "cell_type": "code",
   "execution_count": 50,
   "id": "af72154f",
   "metadata": {},
   "outputs": [
    {
     "name": "stdout",
     "output_type": "stream",
     "text": [
      "story dropped\n",
      "story created\n",
      "author dropped\n",
      "author created\n",
      "authorship dropped\n",
      "authorship created\n",
      "connection closed\n"
     ]
    }
   ],
   "source": [
    "#Connect to postgres\n",
    "import psycopg2\n",
    "conn = psycopg2.connect(\"host=localhost dbname=postgres user=postgres password=thesis2021\")\n",
    "cur = conn.cursor()\n",
    "\n",
    "#Drop table if already exists\n",
    "cur.execute(\"DROP TABLE IF EXISTS story CASCADE\")\n",
    "print (\"story dropped\")\n",
    "\n",
    "#Create table story\n",
    "cur.execute(\"\"\"\n",
    "    CREATE TABLE story(\n",
    "    title text NOT NULL,\n",
    "    summary text,\n",
    "    contents text,\n",
    "    web_link text,\n",
    "    publish_date date,\n",
    "    load_id text,\n",
    "    story_id serial PRIMARY KEY\n",
    ")\n",
    "\"\"\")\n",
    "conn.commit()\n",
    "print(\"story created\")\n",
    "\n",
    "\n",
    "#Drop table if already exists\n",
    "cur.execute(\"DROP TABLE IF EXISTS author CASCADE\")\n",
    "print (\"author dropped\")\n",
    "\n",
    "#Create table author\n",
    "cur.execute(\"\"\"\n",
    "    CREATE TABLE author(\n",
    "    author_name text NOT NULL,\n",
    "    author_id serial PRIMARY KEY\n",
    ")\n",
    "\"\"\")\n",
    "conn.commit()\n",
    "print(\"author created\")\n",
    "\n",
    "\n",
    "#Drop table if already exists\n",
    "cur.execute(\"DROP TABLE IF EXISTS authorship\")\n",
    "print (\"authorship dropped\")\n",
    "\n",
    "#Create table mensagem_stories\n",
    "cur.execute(\"\"\"\n",
    "    CREATE TABLE authorship(\n",
    "    story_id INT NOT NULL,\n",
    "    author_id INT NOT NULL,\n",
    "    PRIMARY KEY (story_id, author_id),\n",
    "    FOREIGN KEY (story_id) REFERENCES story(story_id) ON UPDATE CASCADE,\n",
    "    FOREIGN KEY (author_id) REFERENCES author(author_id) ON UPDATE CASCADE\n",
    ")\n",
    "\"\"\")\n",
    "conn.commit()\n",
    "print(\"authorship created\")\n",
    "\n",
    "#close the connection\n",
    "conn.close()\n",
    "print(\"connection closed\")"
   ]
  },
  {
   "cell_type": "markdown",
   "id": "288563f0",
   "metadata": {},
   "source": [
    "## Distribute into database"
   ]
  },
  {
   "cell_type": "code",
   "execution_count": 51,
   "id": "a9386bbf",
   "metadata": {
    "scrolled": true
   },
   "outputs": [
    {
     "name": "stdout",
     "output_type": "stream",
     "text": [
      "stories loaded\n",
      "[('Esta cidade ja é para animais vadios: gatos de rua têm abrigos para dormir', 'A1', 1), ('A avó da Uber Eats em Alfama é a salvaçao dos mais velhos', 'A2', 2), ('Alvalade: o bairro que não é para turistas tem resistido melhor à crise da pendemia', 'A3', 3), ('\"As \"\"Gaulesas\"\" que defendem a Mouraria da especulação imobiliária\"', 'A4', 4), ('Mais floreiras e menos carros. Estes lisboetas mudaram uma rua com um canteiro.', 'A5', 5), ('Nos Anjos, o ativismo passou a fazer-se ao microfone da rádio Gabriela', 'A6', 6), ('Quem é Alexis Lapas, o peixeiro de Benfica que dá polémica no Twitter', 'A7', 7), ('A guerra das bicicletas passou para a Avenida de Berna e está a politizar-se', 'A8', 8)]\n",
      "authors loaded\n",
      "[('Álvaro Filho', 1), ('Frederico Raposo ', 2), ('Catarina Reis', 3), ('Maria João Martins', 4)]\n",
      "connection closed\n"
     ]
    }
   ],
   "source": [
    "#Connect to postgres\n",
    "import psycopg2\n",
    "conn = psycopg2.connect(\"host=localhost dbname=postgres user=postgres password=thesis2021\")\n",
    "cur = conn.cursor()\n",
    "\n",
    "#Distribute mensagem stories into stories\n",
    "cur.execute(\"\"\"\n",
    "    INSERT INTO story(title, summary, contents, web_link, publish_date, load_id)\n",
    "    SELECT title, summary, contents, link, pub_date, load_id\n",
    "    FROM mensagem_stories\n",
    "\"\"\")\n",
    "conn.commit()\n",
    "print(\"stories loaded\")\n",
    "\n",
    "cur.execute('SELECT title,load_id,story_id FROM story')\n",
    "all = cur.fetchall()\n",
    "print(all)\n",
    "\n",
    "#Distribute mensagem authors into authors\n",
    "cur.execute(\"\"\"\n",
    "    INSERT INTO author(author_name)\n",
    "    SELECT DISTINCT author\n",
    "    FROM mensagem_stories\n",
    "\"\"\")\n",
    "conn.commit()\n",
    "print(\"authors loaded\")\n",
    "\n",
    "cur.execute('SELECT * FROM author')\n",
    "all = cur.fetchall()\n",
    "print(all)\n",
    "\n",
    "#close the connection\n",
    "conn.close()\n",
    "print(\"connection closed\")"
   ]
  },
  {
   "cell_type": "markdown",
   "id": "b91ce99d",
   "metadata": {},
   "source": [
    "## Populate authorship"
   ]
  },
  {
   "cell_type": "code",
   "execution_count": 52,
   "id": "de339ab6",
   "metadata": {},
   "outputs": [
    {
     "name": "stdout",
     "output_type": "stream",
     "text": [
      "Connection open\n",
      "[(1, 4), (2, 1), (3, 2), (4, 3), (5, 2), (6, 1), (7, 1), (8, 2)]\n",
      "Connection closed\n"
     ]
    }
   ],
   "source": [
    "#Connect to postgres\n",
    "import psycopg2\n",
    "conn = psycopg2.connect(\"host=localhost dbname=postgres user=postgres password=thesis2021\")\n",
    "cur = conn.cursor()\n",
    "print(\"Connection open\")\n",
    "\n",
    "#Relate stories and authors\n",
    "cur.execute(\"\"\"\n",
    "    INSERT INTO authorship(story_id,author_id)\n",
    "    SELECT mensagem_stories.id, author.author_id\n",
    "    FROM mensagem_stories\n",
    "    LEFT JOIN author ON mensagem_stories.author = author.author_name\n",
    "    LEFT JOIN story ON mensagem_stories.load_id = story.load_id\n",
    "    ORDER BY mensagem_stories.id\n",
    "\"\"\")\n",
    "conn.commit()\n",
    "cur.execute('SELECT * FROM authorship')\n",
    "all = cur.fetchall()\n",
    "print(all)\n",
    "\n",
    "\n",
    "#close the connection\n",
    "conn.close()\n",
    "print(\"Connection closed\")"
   ]
  },
  {
   "cell_type": "markdown",
   "id": "117ccb97",
   "metadata": {},
   "source": [
    "## See all articles by author"
   ]
  },
  {
   "cell_type": "code",
   "execution_count": 53,
   "id": "d92dcf6a",
   "metadata": {},
   "outputs": [
    {
     "name": "stdout",
     "output_type": "stream",
     "text": [
      "Connection open\n",
      "[('Álvaro Filho', 'A avó da Uber Eats em Alfama é a salvaçao dos mais velhos'), ('Álvaro Filho', 'Nos Anjos, o ativismo passou a fazer-se ao microfone da rádio Gabriela'), ('Álvaro Filho', 'Quem é Alexis Lapas, o peixeiro de Benfica que dá polémica no Twitter'), ('Catarina Reis', '\"As \"\"Gaulesas\"\" que defendem a Mouraria da especulação imobiliária\"'), ('Frederico Raposo ', 'A guerra das bicicletas passou para a Avenida de Berna e está a politizar-se'), ('Frederico Raposo ', 'Alvalade: o bairro que não é para turistas tem resistido melhor à crise da pendemia'), ('Frederico Raposo ', 'Mais floreiras e menos carros. Estes lisboetas mudaram uma rua com um canteiro.'), ('Maria João Martins', 'Esta cidade ja é para animais vadios: gatos de rua têm abrigos para dormir')]\n",
      "Connection closed\n"
     ]
    }
   ],
   "source": [
    "#Connect to postgres\n",
    "import psycopg2\n",
    "conn = psycopg2.connect(\"host=localhost dbname=postgres user=postgres password=thesis2021\")\n",
    "cur = conn.cursor()\n",
    "print(\"Connection open\")\n",
    "\n",
    "cur.execute(\"\"\"\n",
    "    SELECT author.author_name, story.title\n",
    "    FROM author\n",
    "    LEFT JOIN authorship ON author.author_id = authorship.author_id\n",
    "    INNER JOIN story ON authorship.story_id = story.story_id\n",
    "    ORDER BY author.author_name\n",
    "\"\"\")\n",
    "all = cur.fetchall()\n",
    "print(all)\n",
    "\n",
    "\n",
    "#close the connection\n",
    "conn.close()\n",
    "print(\"Connection closed\")"
   ]
  },
  {
   "cell_type": "markdown",
   "id": "d10b02dd",
   "metadata": {},
   "source": [
    "## Add Publisher / Publishing"
   ]
  },
  {
   "cell_type": "code",
   "execution_count": 54,
   "id": "c8c67c63",
   "metadata": {},
   "outputs": [
    {
     "name": "stdout",
     "output_type": "stream",
     "text": [
      "publisher dropped\n",
      "publisher created\n",
      "publishing dropped\n",
      "publishing created\n",
      "publishers loaded\n",
      "[('mensagem', None, None, 1)]\n",
      "[(1, 1), (2, 1), (3, 1), (4, 1), (5, 1), (6, 1), (7, 1), (8, 1)]\n",
      "[('mensagem', 'Esta cidade ja é para animais vadios: gatos de rua têm abrigos para dormir'), ('mensagem', 'A avó da Uber Eats em Alfama é a salvaçao dos mais velhos'), ('mensagem', 'Alvalade: o bairro que não é para turistas tem resistido melhor à crise da pendemia'), ('mensagem', '\"As \"\"Gaulesas\"\" que defendem a Mouraria da especulação imobiliária\"'), ('mensagem', 'Mais floreiras e menos carros. Estes lisboetas mudaram uma rua com um canteiro.'), ('mensagem', 'Nos Anjos, o ativismo passou a fazer-se ao microfone da rádio Gabriela'), ('mensagem', 'Quem é Alexis Lapas, o peixeiro de Benfica que dá polémica no Twitter'), ('mensagem', 'A guerra das bicicletas passou para a Avenida de Berna e está a politizar-se')]\n",
      "connection closed\n"
     ]
    }
   ],
   "source": [
    "#Connect to postgres\n",
    "import psycopg2\n",
    "conn = psycopg2.connect(\"host=localhost dbname=postgres user=postgres password=thesis2021\")\n",
    "cur = conn.cursor()\n",
    "\n",
    "#Drop table if already exists\n",
    "cur.execute(\"DROP TABLE IF EXISTS publisher CASCADE\")\n",
    "print (\"publisher dropped\")\n",
    "\n",
    "\n",
    "#Create table publisher\n",
    "cur.execute(\"\"\"\n",
    "    CREATE TABLE publisher(\n",
    "    publisher_name text NOT NULL,\n",
    "    publisher_site text,\n",
    "    publisher_description text,\n",
    "    publisher_id serial PRIMARY KEY\n",
    ")\n",
    "\"\"\")\n",
    "conn.commit()\n",
    "print(\"publisher created\")\n",
    "\n",
    "\n",
    "#Drop table if already exists\n",
    "cur.execute(\"DROP TABLE IF EXISTS publishing\")\n",
    "print (\"publishing dropped\")\n",
    "\n",
    "#Create table publishing\n",
    "cur.execute(\"\"\"\n",
    "    CREATE TABLE publishing(\n",
    "    story_id INT NOT NULL,\n",
    "    publisher_id INT NOT NULL,\n",
    "    PRIMARY KEY (story_id, publisher_id),\n",
    "    FOREIGN KEY (story_id) REFERENCES story(story_id) ON UPDATE CASCADE,\n",
    "    FOREIGN KEY (publisher_id) REFERENCES publisher(publisher_id) ON UPDATE CASCADE\n",
    ")\n",
    "\"\"\")\n",
    "conn.commit()\n",
    "print(\"publishing created\")\n",
    "\n",
    "#Distribute publishers\n",
    "cur.execute(\"\"\"\n",
    "    INSERT INTO publisher(publisher_name)\n",
    "    SELECT DISTINCT publication\n",
    "    FROM mensagem_stories\n",
    "\"\"\")\n",
    "conn.commit()\n",
    "print(\"publishers loaded\")\n",
    "\n",
    "cur.execute('SELECT * FROM publisher')\n",
    "all = cur.fetchall()\n",
    "print(all)\n",
    "\n",
    "#Relate stories and authors\n",
    "cur.execute(\"\"\"\n",
    "    INSERT INTO publishing(story_id,publisher_id)\n",
    "    SELECT mensagem_stories.id, publisher.publisher_id\n",
    "    FROM mensagem_stories\n",
    "    LEFT JOIN publisher ON mensagem_stories.publication = publisher.publisher_name\n",
    "    LEFT JOIN story ON mensagem_stories.load_id = story.load_id\n",
    "    ORDER BY mensagem_stories.id\n",
    "\"\"\")\n",
    "conn.commit()\n",
    "cur.execute('SELECT * FROM publishing')\n",
    "all = cur.fetchall()\n",
    "print(all)\n",
    "\n",
    "cur.execute(\"\"\"\n",
    "    SELECT publisher.publisher_name, story.title\n",
    "    FROM publisher\n",
    "    LEFT JOIN publishing ON publisher.publisher_id = publishing.publisher_id\n",
    "    INNER JOIN story ON publishing.story_id = story.story_id\n",
    "    ORDER BY publisher.publisher_name\n",
    "\"\"\")\n",
    "all = cur.fetchall()\n",
    "print(all)\n",
    "\n",
    "\n",
    "#close the connection\n",
    "conn.close()\n",
    "print(\"connection closed\")"
   ]
  },
  {
   "cell_type": "markdown",
   "id": "5207b9ce",
   "metadata": {},
   "source": [
    "## Add Section / Sectioning"
   ]
  },
  {
   "cell_type": "code",
   "execution_count": 55,
   "id": "0749ddb1",
   "metadata": {},
   "outputs": [
    {
     "name": "stdout",
     "output_type": "stream",
     "text": [
      "section dropped\n",
      "section created\n",
      "sectioning dropped\n",
      "sectioning created\n",
      "sections loaded\n",
      "[('cidade', 1), ('bairros', 2)]\n",
      "[(1, 2), (2, 2), (3, 2), (4, 2), (5, 2), (6, 2), (7, 2), (8, 1)]\n",
      "[('bairros', 'Esta cidade ja é para animais vadios: gatos de rua têm abrigos para dormir'), ('bairros', 'A avó da Uber Eats em Alfama é a salvaçao dos mais velhos'), ('bairros', 'Alvalade: o bairro que não é para turistas tem resistido melhor à crise da pendemia'), ('bairros', '\"As \"\"Gaulesas\"\" que defendem a Mouraria da especulação imobiliária\"'), ('bairros', 'Mais floreiras e menos carros. Estes lisboetas mudaram uma rua com um canteiro.'), ('bairros', 'Nos Anjos, o ativismo passou a fazer-se ao microfone da rádio Gabriela'), ('bairros', 'Quem é Alexis Lapas, o peixeiro de Benfica que dá polémica no Twitter'), ('cidade', 'A guerra das bicicletas passou para a Avenida de Berna e está a politizar-se')]\n",
      "connection closed\n"
     ]
    }
   ],
   "source": [
    "#Connect to postgres\n",
    "import psycopg2\n",
    "conn = psycopg2.connect(\"host=localhost dbname=postgres user=postgres password=thesis2021\")\n",
    "cur = conn.cursor()\n",
    "\n",
    "#Drop table if already exists\n",
    "cur.execute(\"DROP TABLE IF EXISTS section CASCADE\")\n",
    "print (\"section dropped\")\n",
    "\n",
    "\n",
    "#Create table publisher\n",
    "cur.execute(\"\"\"\n",
    "    CREATE TABLE section(\n",
    "    section_name text NOT NULL,\n",
    "    section_id serial PRIMARY KEY\n",
    ")\n",
    "\"\"\")\n",
    "conn.commit()\n",
    "print(\"section created\")\n",
    "\n",
    "\n",
    "#Drop table if already exists\n",
    "cur.execute(\"DROP TABLE IF EXISTS sectioning\")\n",
    "print (\"sectioning dropped\")\n",
    "\n",
    "#Create table publishing\n",
    "cur.execute(\"\"\"\n",
    "    CREATE TABLE sectioning(\n",
    "    story_id INT NOT NULL,\n",
    "    section_id INT NOT NULL,\n",
    "    PRIMARY KEY (story_id, section_id),\n",
    "    FOREIGN KEY (story_id) REFERENCES story(story_id) ON UPDATE CASCADE,\n",
    "    FOREIGN KEY (section_id) REFERENCES section(section_id) ON UPDATE CASCADE\n",
    ")\n",
    "\"\"\")\n",
    "conn.commit()\n",
    "print(\"sectioning created\")\n",
    "\n",
    "#Distribute publishers\n",
    "cur.execute(\"\"\"\n",
    "    INSERT INTO section(section_name)\n",
    "    SELECT DISTINCT section\n",
    "    FROM mensagem_stories\n",
    "\"\"\")\n",
    "conn.commit()\n",
    "print(\"sections loaded\")\n",
    "\n",
    "cur.execute('SELECT * FROM section')\n",
    "all = cur.fetchall()\n",
    "print(all)\n",
    "\n",
    "#Relate stories and sections\n",
    "cur.execute(\"\"\"\n",
    "    INSERT INTO sectioning(story_id,section_id)\n",
    "    SELECT mensagem_stories.id, section.section_id\n",
    "    FROM mensagem_stories\n",
    "    LEFT JOIN section ON mensagem_stories.section = section.section_name\n",
    "    LEFT JOIN story ON mensagem_stories.load_id = story.load_id\n",
    "    ORDER BY mensagem_stories.id\n",
    "\"\"\")\n",
    "conn.commit()\n",
    "cur.execute('SELECT * FROM sectioning')\n",
    "all = cur.fetchall()\n",
    "print(all)\n",
    "\n",
    "cur.execute(\"\"\"\n",
    "    SELECT section.section_name, story.title\n",
    "    FROM section\n",
    "    LEFT JOIN sectioning ON section.section_id = sectioning.section_id\n",
    "    INNER JOIN story ON sectioning.story_id = story.story_id\n",
    "    ORDER BY section.section_name\n",
    "\"\"\")\n",
    "all = cur.fetchall()\n",
    "print(all)\n",
    "\n",
    "\n",
    "#close the connection\n",
    "conn.close()\n",
    "print(\"connection closed\")"
   ]
  },
  {
   "cell_type": "markdown",
   "id": "ba0bdffb",
   "metadata": {},
   "source": [
    "## Theme / Theming (Tags)"
   ]
  },
  {
   "cell_type": "code",
   "execution_count": 56,
   "id": "9fab988e",
   "metadata": {},
   "outputs": [
    {
     "name": "stdout",
     "output_type": "stream",
     "text": [
      "theme dropped\n",
      "theme created\n",
      "theming dropped\n",
      "theming created\n",
      "themes loaded\n",
      "[('', 1)]\n",
      "[(1, 1), (2, 1), (3, 1), (4, 1), (5, 1), (6, 1), (7, 1), (8, 1)]\n",
      "[('', 'Esta cidade ja é para animais vadios: gatos de rua têm abrigos para dormir'), ('', 'A avó da Uber Eats em Alfama é a salvaçao dos mais velhos'), ('', 'Alvalade: o bairro que não é para turistas tem resistido melhor à crise da pendemia'), ('', '\"As \"\"Gaulesas\"\" que defendem a Mouraria da especulação imobiliária\"'), ('', 'Mais floreiras e menos carros. Estes lisboetas mudaram uma rua com um canteiro.'), ('', 'Nos Anjos, o ativismo passou a fazer-se ao microfone da rádio Gabriela'), ('', 'Quem é Alexis Lapas, o peixeiro de Benfica que dá polémica no Twitter'), ('', 'A guerra das bicicletas passou para a Avenida de Berna e está a politizar-se')]\n",
      "connection closed\n"
     ]
    }
   ],
   "source": [
    "#Connect to postgres\n",
    "import psycopg2\n",
    "conn = psycopg2.connect(\"host=localhost dbname=postgres user=postgres password=thesis2021\")\n",
    "cur = conn.cursor()\n",
    "\n",
    "#Drop table if already exists\n",
    "cur.execute(\"DROP TABLE IF EXISTS theme CASCADE\")\n",
    "print (\"theme dropped\")\n",
    "\n",
    "\n",
    "#Create table theme\n",
    "cur.execute(\"\"\"\n",
    "    CREATE TABLE theme(\n",
    "    theme_name text NOT NULL,\n",
    "    theme_id serial PRIMARY KEY\n",
    ")\n",
    "\"\"\")\n",
    "conn.commit()\n",
    "print(\"theme created\")\n",
    "\n",
    "\n",
    "#Drop table if already exists\n",
    "cur.execute(\"DROP TABLE IF EXISTS stheming\")\n",
    "cur.execute(\"DROP TABLE IF EXISTS theming\")\n",
    "print (\"theming dropped\")\n",
    "\n",
    "#Create table theming\n",
    "cur.execute(\"\"\"\n",
    "    CREATE TABLE theming(\n",
    "    story_id INT NOT NULL,\n",
    "    theme_id INT NOT NULL,\n",
    "    PRIMARY KEY (story_id, theme_id),\n",
    "    FOREIGN KEY (story_id) REFERENCES story(story_id) ON UPDATE CASCADE,\n",
    "    FOREIGN KEY (theme_id) REFERENCES theme(theme_id) ON UPDATE CASCADE\n",
    ")\n",
    "\"\"\")\n",
    "conn.commit()\n",
    "print(\"theming created\")\n",
    "\n",
    "#Distribute publishers\n",
    "cur.execute(\"\"\"\n",
    "    INSERT INTO theme(theme_name)\n",
    "    SELECT DISTINCT tags\n",
    "    FROM mensagem_stories\n",
    "\"\"\")\n",
    "conn.commit()\n",
    "print(\"themes loaded\")\n",
    "\n",
    "cur.execute('SELECT * FROM theme')\n",
    "all = cur.fetchall()\n",
    "print(all)\n",
    "\n",
    "#Relate stories and themes\n",
    "cur.execute(\"\"\"\n",
    "    INSERT INTO theming(story_id,theme_id)\n",
    "    SELECT mensagem_stories.id, theme.theme_id\n",
    "    FROM mensagem_stories\n",
    "    LEFT JOIN theme ON mensagem_stories.tags = theme.theme_name\n",
    "    LEFT JOIN story ON mensagem_stories.load_id = story.load_id\n",
    "    ORDER BY mensagem_stories.id\n",
    "\"\"\")\n",
    "conn.commit()\n",
    "cur.execute('SELECT * FROM theming')\n",
    "all = cur.fetchall()\n",
    "print(all)\n",
    "\n",
    "cur.execute(\"\"\"\n",
    "    SELECT theme.theme_name, story.title\n",
    "    FROM theme\n",
    "    LEFT JOIN theming ON theme.theme_id = theming.theme_id\n",
    "    INNER JOIN story ON theming.story_id = story.story_id\n",
    "    ORDER BY theme.theme_name\n",
    "\"\"\")\n",
    "all = cur.fetchall()\n",
    "print(all)\n",
    "\n",
    "\n",
    "#close the connection\n",
    "conn.close()\n",
    "print(\"connection closed\")"
   ]
  },
  {
   "cell_type": "markdown",
   "id": "0e8e1db0",
   "metadata": {},
   "source": [
    "## Employment"
   ]
  },
  {
   "cell_type": "code",
   "execution_count": 57,
   "id": "88e6bc9d",
   "metadata": {},
   "outputs": [
    {
     "name": "stdout",
     "output_type": "stream",
     "text": [
      "employment dropped\n",
      "employment created\n",
      "[(1, 1), (1, 2), (1, 3), (1, 4)]\n",
      "[('Álvaro Filho', 'mensagem'), ('Catarina Reis', 'mensagem'), ('Frederico Raposo ', 'mensagem'), ('Maria João Martins', 'mensagem')]\n",
      "connection closed\n"
     ]
    }
   ],
   "source": [
    "#Connect to postgres\n",
    "import psycopg2\n",
    "conn = psycopg2.connect(\"host=localhost dbname=postgres user=postgres password=thesis2021\")\n",
    "cur = conn.cursor()\n",
    "\n",
    "#Drop table if already exists\n",
    "cur.execute(\"DROP TABLE IF EXISTS employment CASCADE\")\n",
    "print (\"employment dropped\")\n",
    "\n",
    "\n",
    "#Create table employment\n",
    "cur.execute(\"\"\"\n",
    "    CREATE TABLE employment(\n",
    "    publisher_id INT NOT NULL,\n",
    "    author_id INT NOT NULL,\n",
    "    PRIMARY KEY (publisher_id, author_id),\n",
    "    FOREIGN KEY (publisher_id) REFERENCES publisher(publisher_id) ON UPDATE CASCADE,\n",
    "    FOREIGN KEY (author_id) REFERENCES author(author_id) ON UPDATE CASCADE\n",
    ")\n",
    "\"\"\")\n",
    "conn.commit()\n",
    "print(\"employment created\")\n",
    "\n",
    "\n",
    "#Relate authors and publishers\n",
    "cur.execute(\"\"\"\n",
    "    INSERT INTO employment(publisher_id,author_id)\n",
    "    SELECT DISTINCT publisher.publisher_id, author.author_id\n",
    "    FROM mensagem_stories\n",
    "    LEFT JOIN author ON mensagem_stories.author = author.author_name\n",
    "    LEFT JOIN publisher ON mensagem_stories.publication = publisher.publisher_name\n",
    "    ORDER BY author.author_id\n",
    "\"\"\")\n",
    "conn.commit()\n",
    "cur.execute('SELECT * FROM employment')\n",
    "all = cur.fetchall()\n",
    "print(all)\n",
    "\n",
    "cur.execute(\"\"\"\n",
    "    SELECT author.author_name, publisher.publisher_name\n",
    "    FROM author\n",
    "    LEFT JOIN employment ON author.author_id = employment.author_id\n",
    "    INNER JOIN publisher ON employment.publisher_id = publisher.publisher_id\n",
    "    ORDER BY author.author_name\n",
    "\"\"\")\n",
    "all = cur.fetchall()\n",
    "print(all)\n",
    "\n",
    "\n",
    "#close the connection\n",
    "conn.close()\n",
    "print(\"connection closed\")"
   ]
  },
  {
   "cell_type": "markdown",
   "id": "25c4cb49",
   "metadata": {},
   "source": [
    "## Story Relations"
   ]
  },
  {
   "cell_type": "code",
   "execution_count": 58,
   "id": "3ed411db",
   "metadata": {},
   "outputs": [
    {
     "name": "stdout",
     "output_type": "stream",
     "text": [
      "storyref dropped\n",
      "storyref created\n",
      "storyref empty\n",
      "connection closed\n"
     ]
    }
   ],
   "source": [
    "#Connect to postgres\n",
    "import psycopg2\n",
    "conn = psycopg2.connect(\"host=localhost dbname=postgres user=postgres password=thesis2021\")\n",
    "cur = conn.cursor()\n",
    "\n",
    "#Drop table if already exists\n",
    "cur.execute(\"DROP TABLE IF EXISTS storyref CASCADE\")\n",
    "print (\"storyref dropped\")\n",
    "\n",
    "\n",
    "#Create table storyref\n",
    "cur.execute(\"\"\"\n",
    "    CREATE TABLE storyref(\n",
    "    storya_id INT NOT NULL,\n",
    "    storyb_id INT NOT NULL,\n",
    "    PRIMARY KEY (storya_id, storyb_id),\n",
    "    FOREIGN KEY (storya_id) REFERENCES story(story_id) ON UPDATE CASCADE,\n",
    "    FOREIGN KEY (storyb_id) REFERENCES story(story_id) ON UPDATE CASCADE\n",
    ")\n",
    "\"\"\")\n",
    "conn.commit()\n",
    "print(\"storyref created\")\n",
    "\n",
    "print(\"storyref empty\")\n",
    "\n",
    "\n",
    "#close the connection\n",
    "conn.close()\n",
    "print(\"connection closed\")"
   ]
  },
  {
   "cell_type": "markdown",
   "id": "9c6fa0cc",
   "metadata": {},
   "source": [
    "## Story typing"
   ]
  },
  {
   "cell_type": "code",
   "execution_count": 59,
   "id": "8bba6803",
   "metadata": {},
   "outputs": [
    {
     "name": "stdout",
     "output_type": "stream",
     "text": [
      "stype dropped\n",
      "stype created\n",
      "styping dropped\n",
      "styping created\n",
      "styping empty\n",
      "connection closed\n"
     ]
    }
   ],
   "source": [
    "#Connect to postgres\n",
    "import psycopg2\n",
    "conn = psycopg2.connect(\"host=localhost dbname=postgres user=postgres password=thesis2021\")\n",
    "cur = conn.cursor()\n",
    "\n",
    "#Drop table if already exists\n",
    "cur.execute(\"DROP TABLE IF EXISTS stype CASCADE\")\n",
    "print (\"stype dropped\")\n",
    "\n",
    "\n",
    "#Create table theme\n",
    "cur.execute(\"\"\"\n",
    "    CREATE TABLE stype(\n",
    "    stype_name text NOT NULL,\n",
    "    stype_description text,\n",
    "    stype_id serial PRIMARY KEY\n",
    ")\n",
    "\"\"\")\n",
    "conn.commit()\n",
    "print(\"stype created\")\n",
    "\n",
    "\n",
    "#Drop table if already exists\n",
    "cur.execute(\"DROP TABLE IF EXISTS styping\")\n",
    "print (\"styping dropped\")\n",
    "\n",
    "#Create table theming\n",
    "cur.execute(\"\"\"\n",
    "    CREATE TABLE styping(\n",
    "    story_id INT NOT NULL,\n",
    "    stype_id INT NOT NULL,\n",
    "    PRIMARY KEY (story_id, stype_id),\n",
    "    FOREIGN KEY (story_id) REFERENCES story(story_id) ON UPDATE CASCADE,\n",
    "    FOREIGN KEY (stype_id) REFERENCES stype(stype_id) ON UPDATE CASCADE\n",
    ")\n",
    "\"\"\")\n",
    "conn.commit()\n",
    "print(\"styping created\")\n",
    "\n",
    "print(\"styping empty\")\n",
    "\n",
    "#close the connection\n",
    "conn.close()\n",
    "print(\"connection closed\")"
   ]
  },
  {
   "cell_type": "markdown",
   "id": "b4790f49",
   "metadata": {},
   "source": [
    "## Instance"
   ]
  },
  {
   "cell_type": "code",
   "execution_count": 12,
   "id": "3ac92015",
   "metadata": {},
   "outputs": [
    {
     "name": "stdout",
     "output_type": "stream",
     "text": [
      "User Gazetteer dropped\n",
      "user_gazetteer created\n",
      "instances pre-loaded\n",
      "sinstance dropped\n",
      "sinstance created\n",
      "instances pre-loaded\n",
      "[(1, datetime.date(1900, 1, 1), datetime.date(1900, 1, 1), 'na', '', 1, 1), (2, datetime.date(2020, 3, 1), datetime.date(1900, 1, 1), 'ongoing', 'COVID', 2, 2), (3, datetime.date(2020, 3, 1), datetime.date(1900, 1, 1), 'ongoing', 'COVID', 3, 3), (4, datetime.date(2016, 1, 1), datetime.date(1900, 1, 1), 'ongoing', '2016-present', 4, 4), (5, datetime.date(2021, 1, 19), datetime.date(2021, 1, 19), 'concrete', '19-Jan', 5, 5), (6, datetime.date(2020, 3, 1), datetime.date(1900, 1, 1), 'ongoing', 'March 2020 - current', 6, 6), (7, datetime.date(2020, 2, 1), datetime.date(1900, 1, 1), 'ongoing', 'Feb 2020 - current', 7, 7), (8, datetime.date(2021, 3, 5), datetime.date(2021, 10, 5), 'predicted', '3 March 2021 to 5 October 2021', 8, 8)]\n",
      "connection closed\n"
     ]
    }
   ],
   "source": [
    "#Connect to postgres\n",
    "import psycopg2\n",
    "conn = psycopg2.connect(\"host=localhost dbname=postgres user=postgres password=thesis2021\")\n",
    "cur = conn.cursor()\n",
    "\n",
    "\n",
    "#Drop table if already exists\n",
    "cur.execute(\"DROP TABLE IF EXISTS user_gazetteer CASCADE\")\n",
    "cur.execute(\"DROP TABLE IF EXISTS user_gazetteer_point CASCADE\")\n",
    "print (\"User Gazetteer dropped\")\n",
    "\n",
    "#Create table sistance. \n",
    "cur.execute(\"\"\"\n",
    "    CREATE TABLE user_gazetteer(\n",
    "    place_name TEXT,\n",
    "    place_desc TEXT,\n",
    "    geom GEOMETRY,\n",
    "    place_id serial PRIMARY KEY\n",
    ")\n",
    "\"\"\")\n",
    "conn.commit()\n",
    "print(\"user_gazetteer created\")\n",
    "\n",
    "#Distribute places\n",
    "cur.execute(\"\"\"\n",
    "    INSERT INTO user_gazetteer(place_desc)\n",
    "    SELECT spatial\n",
    "    FROM mensagem_stories\n",
    "\"\"\")\n",
    "conn.commit()\n",
    "print(\"instances pre-loaded\")\n",
    "\n",
    "\n",
    "#Drop table if already exists\n",
    "cur.execute(\"DROP TABLE IF EXISTS sinstance CASCADE\")\n",
    "print (\"sinstance dropped\")\n",
    "\n",
    "#Create table sistance. \n",
    "cur.execute(\"\"\"\n",
    "    CREATE TABLE sinstance(\n",
    "    story_id INT NOT NULL,\n",
    "    t_begin DATE,\n",
    "    t_end DATE,\n",
    "    t_type text,\n",
    "    t_desc text,\n",
    "    place_id INT,\n",
    "    sinstance_id serial PRIMARY KEY,\n",
    "    FOREIGN KEY (story_id) REFERENCES story(story_id) ON UPDATE CASCADE,\n",
    "    FOREIGN KEY (place_id) REFERENCES user_gazetteer(place_id) ON UPDATE CASCADE\n",
    ")\n",
    "\"\"\")\n",
    "conn.commit()\n",
    "print(\"sinstance created\")\n",
    "\n",
    "#Distribute instances\n",
    "cur.execute(\"\"\"\n",
    "    INSERT INTO sinstance(story_id, t_begin, t_end, t_type, t_desc, place_id)\n",
    "    SELECT ms.id, ms.t_begin, ms.t_end, ms.t_type, ms.temporal, ug.place_id\n",
    "    FROM mensagem_stories AS ms\n",
    "    LEFT JOIN user_gazetteer AS ug ON ms.spatial = ug.place_desc\n",
    "    LEFT JOIN story ON ms.load_id = story.load_id\n",
    "    ORDER BY ms.id\n",
    "\"\"\")\n",
    "conn.commit()\n",
    "print(\"instances pre-loaded\")\n",
    "\n",
    "cur.execute('SELECT * FROM sinstance')\n",
    "all = cur.fetchall()\n",
    "print(all)\n",
    "\n",
    "\n",
    "#close the connection\n",
    "conn.close()\n",
    "print(\"connection closed\")"
   ]
  },
  {
   "cell_type": "markdown",
   "id": "68450950",
   "metadata": {},
   "source": [
    "## Next:"
   ]
  },
  {
   "cell_type": "markdown",
   "id": "caa6b9aa",
   "metadata": {},
   "source": [
    "1. Integrate with GIT - DONE\n",
    "2. Finish adding the full data model - DONE\n",
    "3. Dimension the data to the model - DONE"
   ]
  }
 ],
 "metadata": {
  "kernelspec": {
   "display_name": "Python 3 (ipykernel)",
   "language": "python",
   "name": "python3"
  },
  "language_info": {
   "codemirror_mode": {
    "name": "ipython",
    "version": 3
   },
   "file_extension": ".py",
   "mimetype": "text/x-python",
   "name": "python",
   "nbconvert_exporter": "python",
   "pygments_lexer": "ipython3",
   "version": "3.9.5"
  }
 },
 "nbformat": 4,
 "nbformat_minor": 5
}
